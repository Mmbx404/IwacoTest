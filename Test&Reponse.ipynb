{
 "cells": [
  {
   "cell_type": "markdown",
   "metadata": {},
   "source": [
    "![This is an image](https://iwaco.ma/webroot/style/images/logo.png)\n",
    "\n",
    "# Test iwaco"
   ]
  },
  {
   "cell_type": "markdown",
   "metadata": {},
   "source": [
    "## Partie I\n",
    "### Informations générales"
   ]
  },
  {
   "cell_type": "markdown",
   "metadata": {},
   "source": [
    "1. Nom et prénom"
   ]
  },
  {
   "cell_type": "markdown",
   "metadata": {},
   "source": [
    "2. Actuallement vous\n",
    "    1. Travaillez\n",
    "    2. Etudiez\n",
    "    3. Etes en Stage\n",
    "    4. En recherche active"
   ]
  },
  {
   "cell_type": "markdown",
   "metadata": {},
   "source": [
    "3. Vous voulez travailler en tant que\n",
    "    1. developpeur frontend\n",
    "    2. developpeur backend\n",
    "    3. developpeur mobile"
   ]
  },
  {
   "cell_type": "markdown",
   "metadata": {},
   "source": [
    "4. combien d'année d'expérience avez-vous?"
   ]
  },
  {
   "cell_type": "markdown",
   "metadata": {},
   "source": [
    "## Partie II\n",
    "### Questions Générales"
   ]
  },
  {
   "cell_type": "markdown",
   "metadata": {},
   "source": [
    "1. C'est quoi \n",
    "    1. Git? \n",
    "    2. Sass? \n",
    "    3. Composer? \n",
    "    4. Object Pool Pattern (Design Patterns)"
   ]
  },
  {
   "cell_type": "markdown",
   "metadata": {},
   "source": [
    "2. A quoi sert la commande `git diff`?"
   ]
  },
  {
   "cell_type": "markdown",
   "metadata": {},
   "source": [
    "### Javascript"
   ]
  },
  {
   "cell_type": "markdown",
   "metadata": {},
   "source": [
    "1. C'est quoi `CORS`?"
   ]
  },
  {
   "cell_type": "markdown",
   "metadata": {},
   "source": [
    "2. C'est quoi la différence entre `==` et `===`"
   ]
  },
  {
   "cell_type": "markdown",
   "metadata": {},
   "source": [
    "3. Qu'est ce que return `if ( \"0\" == \"true\" )`\n",
    "    1. 0\n",
    "    2. \"0\"\n",
    "    3. NULL\n",
    "    4. false"
   ]
  },
  {
   "cell_type": "markdown",
   "metadata": {},
   "source": [
    "4. Qu'est ce que `this`?"
   ]
  },
  {
   "cell_type": "markdown",
   "metadata": {},
   "source": [
    "### CSS"
   ]
  },
  {
   "cell_type": "markdown",
   "metadata": {},
   "source": [
    "1. Expliquez la différence entre le comportement de `inline` et `block`"
   ]
  },
  {
   "cell_type": "markdown",
   "metadata": {},
   "source": [
    "2. Est-il possible de créer un site web responsive sans media queries ?"
   ]
  },
  {
   "cell_type": "markdown",
   "metadata": {},
   "source": [
    "3. Expliquez les avantages/inconvénients de l'utilisation d'éléments `inline-block`, `flex` ou `float`."
   ]
  },
  {
   "cell_type": "markdown",
   "metadata": {},
   "source": [
    "### PHP"
   ]
  },
  {
   "cell_type": "markdown",
   "metadata": {},
   "source": [
    "1. Écrivez un programme qui imprimera des nombres de 1 à 100, avec les conditions suivantes :\n",
    "    1. A la place de chaque nombre qui peut être divisé par 3, le programme imprimera Dev.\n",
    "    2. A la place de chaque nombre divisible par 5, le programme imprimera Ops.\n",
    "    3. A la place de chaque nombre divisible par 3 et 5, le programme imprimera DevOps."
   ]
  },
  {
   "cell_type": "markdown",
   "metadata": {},
   "source": [
    "2. Ecrire une fonction qui vérifie si paramètre est en fait un nombre premier. \n",
    "`echo isPrime(73) ? 'Prime' : 'Composite';`"
   ]
  },
  {
   "cell_type": "markdown",
   "metadata": {},
   "source": [
    "3. Que signifie\n",
    "```\n",
    "    <?php\n",
    "        $array= [3, 8, -4, 0, 2, -9];\n",
    "        foreach ($array as &$item):\n",
    "            $item = ($item >= 0)? $item : pow($item, 2);\n",
    "        endforeach;\n",
    "        print_r($array);\n",
    "```"
   ]
  },
  {
   "cell_type": "markdown",
   "metadata": {},
   "source": [
    "### DATABASE"
   ]
  },
  {
   "cell_type": "markdown",
   "metadata": {},
   "source": [
    "Pour la table employee ci-dessous `(voir employee.sql)`\n",
    "   1. extraire le nombre d'employés par jour s'étant inscrit \n",
    "   2. extraire les employés ayant fait l'inscription le `3/10/2021`\n",
    "   3. extraire les employés ayant un email qui commence par `consonne` et qui a un chiffre avant le `@`\n",
    "   4. mettre first_name et last_name en `lowercase`\n",
    "   5. modifier la column `create_at` par `date_creation`\n",
    "   6. c'est quoi la differnce entre `delete` et `truncate`\n",
    "   7. imprimer la liste des employés qui ont un salaire plus que la somme de deux salaires minimum"
   ]
  },
  {
   "cell_type": "markdown",
   "metadata": {},
   "source": [
    "\n",
    "| id | first_name | last_name   | email                          | salaire | create_at           |\n",
    "|----|------------|-------------|--------------------------------|---------|---------------------|\n",
    "|  1 | Cammy      | Yegorkin    | cyegorkin0@usatoday.com        |   10188 | 2021-10-27 08:04:27 |\n",
    "|  2 | Shae       | Masham      | smasham1@ftc.gov               |   11601 | 2021-10-11 18:17:51 |\n",
    "|  3 | Hadlee     | Oakeshott   | hoakeshott2@ca.gov             |    5797 | 2021-10-13 11:14:04 |\n",
    "|  4 | Mora       | Krzyzowski  | mkrzyzowski3@usgs.gov          |    6665 | 2021-10-01 09:08:31 |\n",
    "|  5 | Jone       | Ellerman    | jellerman4@xing.com            |    8018 | 2021-10-18 06:49:23 |\n",
    "|  6 | Lynda      | Combe       | lcombe5@spotify.com            |    9423 | 2021-10-11 02:36:17 |\n",
    "|  7 | Leon       | Brusin      | lbrusin6@barnesandnoble.com    |    8644 | 2021-10-17 21:10:01 |\n",
    "|  8 | Dionysus   | Letford     | dletford7@simplemachines.org   |    9914 | 2021-10-17 10:45:06 |\n",
    "|  9 | Edithe     | Radborn     | eradborn8@360.cn               |   12534 | 2021-10-15 00:55:30 |\n",
    "| 10 | Darrelle   | Oxtiby      | doxtiby9@taobao.com            |   12483 | 2021-10-06 11:25:44 |\n",
    "| 11 | Kori       | Gissing     | kgissinga@kickstarter.com      |    9001 | 2021-10-03 17:00:23 |\n",
    "| 12 | Jordan     | Speedy      | jspeedyb@comsenz.com           |   10875 | 2021-10-19 07:36:37 |\n",
    "| 13 | Toinette   | Bradneck    | tbradneckc@merriam-webster.com |   12670 | 2021-10-25 10:15:28 |\n",
    "| 14 | Kissie     | Valentino   | kvalentinod@wikimedia.org      |    7285 | 2021-10-20 13:34:10 |\n",
    "| 15 | Letta      | Botwood     | lbotwoode@shutterfly.com       |    6648 | 2021-10-04 06:49:30 |\n",
    "| 16 | Claudetta  | Winram      | cwinramf@wsj.com               |   12494 | 2021-10-03 05:21:26 |\n",
    "| 17 | Joell      | Force       | jforceg@examiner.com           |    6346 | 2021-10-13 22:57:31 |\n",
    "| 18 | Sansone    | Comrie      | scomrieh@histats.com           |   11449 | 2021-10-26 15:04:28 |\n",
    "| 19 | Cherie     | Salmen      | csalmeni@comsenz.com           |    9870 | 2021-10-19 16:36:11 |\n",
    "| 20 | Hervey     | Mildmott    | hmildmottj@t-online.de         |    7783 | 2021-10-28 16:42:29 |\n",
    "| 21 | Dar        | Vasin       | dvasink@mysql.com              |   10383 | 2021-10-29 15:56:34 |\n",
    "| 22 | Dionis     | Riggulsford | driggulsfordl@pcworld.com      |    9191 | 2021-10-01 11:30:40 |\n",
    "| 23 | Dory       | St Clair    | dstclairm@harvard.edu          |   10854 | 2021-10-10 14:42:25 |\n",
    "| 24 | Ardeen     | Vardon      | avardonn@baidu.com             |   11460 | 2021-10-11 02:14:51 |\n",
    "| 25 | Coriss     | Linnemann   | clinnemanno@fc2.com            |    9248 | 2021-10-24 17:15:02 |\n",
    "| 26 | Itch       | Screech     | iscreechp@dedecms.com          |    5451 | 2021-10-21 15:28:28 |\n",
    "| 27 | Ingram     | Thorneley   | ithorneleyq@freewebs.com       |   12764 | 2021-10-21 21:13:23 |\n",
    "| 28 | Ellyn      | Deadman     | edeadmanr@w3.org               |    5630 | 2021-10-21 10:24:22 |\n",
    "| 29 | Brigit     | Pinckney    | bpinckneys@parallels.com       |   10501 | 2021-10-26 02:34:22 |\n",
    "| 30 | Gilbertina | Thurbon     | gthurbont@flavors.me           |    6167 | 2021-10-20 05:28:06 |\n"
   ]
  },
  {
   "cell_type": "markdown",
   "metadata": {},
   "source": [
    "## Partie III\n",
    "### Pratique"
   ]
  },
  {
   "cell_type": "markdown",
   "metadata": {},
   "source": [
    "- mobile: voir video\n",
    "- web: voir XD file"
   ]
  },
  {
   "cell_type": "markdown",
   "metadata": {},
   "source": [
    "## Reponse\n",
    "### Informations générales"
   ]
  },
  {
   "cell_type": "markdown",
   "metadata": {},
   "source": [
    "1. Nom et prénom : Belghali Mohamed El Mahdi "
   ]
  },
  {
   "cell_type": "markdown",
   "metadata": {},
   "source": [
    "2. Actuallement vous\n",
    "    2. Etudiez"
   ]
  },
  {
   "cell_type": "markdown",
   "metadata": {},
   "source": [
    "3. Vous voulez travailler en tant que\n",
    "    1. developpeur frontend\n",
    "    2. developpeur backend"
   ]
  },
  {
   "cell_type": "markdown",
   "metadata": {},
   "source": [
    "4. combien d'année d'expérience avez-vous?\n",
    "    1. moins d'un an (5 mois de stage en total)"
   ]
  },
  {
   "cell_type": "markdown",
   "metadata": {},
   "source": [
    "## Partie II\n",
    "### Questions Générales"
   ]
  },
  {
   "cell_type": "markdown",
   "metadata": {},
   "source": [
    "1. C'est quoi \n",
    "    1. Git? : git est une outil de controle de version distribué . \n",
    "    2. Sass? : sass est une extension de CSS, cela signifie que sass est une couche au-dessus de CSS qui nous permet de définir                des variables et bien plus encore.\n",
    "    3. Composer? : composer est un gestionnaires de dépendances pour les projet PHP, équivalent a maven pour java et npm ou                        yarn pour javaScript .\n",
    "    4. Object Pool Pattern (Design Patterns)"
   ]
  },
  {
   "cell_type": "markdown",
   "metadata": {},
   "source": [
    "2. A quoi sert la commande `git diff`? : `git diff` est utilisée pour comparer des commits, des branches ou un seul fichier ."
   ]
  },
  {
   "cell_type": "markdown",
   "metadata": {},
   "source": [
    "### Javascript"
   ]
  },
  {
   "cell_type": "markdown",
   "metadata": {},
   "source": [
    "1. C'est quoi `CORS`? : Cors est un mécanisme qui empêche JavaScript d'obtenir des données d'un serveur dans un domaine différent du domaine à partir duquel le site Web a été chargé, à moins que le serveur de Rest Api donne l'autorisation."
   ]
  },
  {
   "cell_type": "markdown",
   "metadata": {},
   "source": [
    "2. C'est quoi la différence entre `==` et `===` :  `==` vérifie si la valeur est égale, `===` vérifie si la valeur est égale et les 2 choses comparées sont du même type ."
   ]
  },
  {
   "cell_type": "markdown",
   "metadata": {},
   "source": [
    "3. Qu'est ce que return `if ( \"0\" == \"true\" )`\n",
    "    4. false"
   ]
  },
  {
   "cell_type": "markdown",
   "metadata": {},
   "source": [
    "4. Qu'est ce que `this`? `this` fait référence à l'objet actuel"
   ]
  },
  {
   "cell_type": "markdown",
   "metadata": {},
   "source": [
    "### CSS"
   ]
  },
  {
   "cell_type": "markdown",
   "metadata": {},
   "source": [
    "1. Expliquez la différence entre le comportement de `inline` et `block` : un élément `inline` ne commence pas dans une nouvelle ligne et n'occupe que sa largeur requise (on peut pas changer son `width` ou son `height`), cependant un élément `block` commence dans une nouvelle ligne et son `width` et son `height` sont modifiables."
   ]
  },
  {
   "cell_type": "markdown",
   "metadata": {},
   "source": [
    "2. Est-il possible de créer un site web responsive sans media queries ? : Oui"
   ]
  },
  {
   "cell_type": "markdown",
   "metadata": {},
   "source": [
    "3. Expliquez les avantages/inconvénients de l'utilisation d'éléments `inline-block`, `flex` ou `float`."
   ]
  },
  {
   "cell_type": "markdown",
   "metadata": {},
   "source": [
    "### PHP"
   ]
  },
  {
   "cell_type": "markdown",
   "metadata": {},
   "source": [
    "1. Écrivez un programme qui imprimera des nombres de 1 à 100, avec les conditions suivantes :\n",
    "    1. A la place de chaque nombre qui peut être divisé par 3, le programme imprimera Dev.\n",
    "    2. A la place de chaque nombre divisible par 5, le programme imprimera Ops.\n",
    "    3. A la place de chaque nombre divisible par 3 et 5, le programme imprimera DevOps.\n",
    "    Reponse : \n",
    "    ```\n",
    "        <?php\n",
    "             for ($x = 1; $x <= 100; $x++) {\n",
    "\t            if ($x % 3 == 0 && $x % 5 == 0) {\n",
    "    \t            echo \"DevOps \\n\";\n",
    "                } elseif ($x % 3 == 0) {\n",
    "    \t            echo \"Dev \\n\";\n",
    "                } elseif ($x % 5 == 0) {\n",
    "    \t            echo \"Ops \\n\";\n",
    "                     }\n",
    "                    }\n",
    "                   ?>\n",
    "    ```"
   ]
  },
  {
   "cell_type": "markdown",
   "metadata": {},
   "source": [
    "2. Ecrire une fonction qui vérifie si paramètre est en fait un nombre premier.  `echo isPrime(73) ? 'Prime' : 'Composite';\n",
    "```\n",
    "    function isPrime(int $a) {\n",
    "      for($x=2; $x < $a; $x++) {\n",
    "        if($a % $x == 0)\n",
    "\t\t{\n",
    "\t\t\treturn false;\n",
    "\t\t}\n",
    "      }\n",
    "        return true;\n",
    "        }\n",
    "```"
   ]
  },
  {
   "cell_type": "markdown",
   "metadata": {},
   "source": [
    "3. Que signifie\n",
    "```\n",
    "    <?php\n",
    "        $array= [3, 8, -4, 0, 2, -9];\n",
    "        foreach ($array as &$item):\n",
    "            $item = ($item >= 0)? $item : pow($item, 2);\n",
    "        endforeach;\n",
    "        print_r($array);\n",
    "```\n",
    " #reponse : ce code php bouclera sur $array, si le nombre actuel est positif ou égal à 0, il ne sera pas modifié, sinon il deviendra sa puissance à deux"
   ]
  },
  {
   "cell_type": "markdown",
   "metadata": {},
   "source": [
    "### DATABASE"
   ]
  },
  {
   "cell_type": "markdown",
   "metadata": {},
   "source": [
    "Pour la table employee ci-dessous `(voir employee.sql)`\n",
    "   1. extraire le nombre d'employés par jour s'étant inscrit :\n",
    "      SELECT COUNT(*), EXTRACT(DAY FROM create_at) AS 'Jour' FROM employee GROUP BY EXTRACT(DAY FROM create_at)\n",
    "   2. extraire les employés ayant fait l'inscription le `3/10/2021`:\n",
    "       SELECT * from employee WHERE DATE(create_at) = '2021-10-03'\n",
    "   3. extraire les employés ayant un email qui commence par `consonne` et qui a un chiffre avant le `@` : \n",
    "       SELECT * FROM employee WHERE email LIKE 'consonne%[0-9]%@%'\n",
    "   4. mettre first_name et last_name en `lowercase` : UPDATE employee SET first_name = LOWER(first_name), last_name =      LOWER(last_name)\n",
    "   5. modifier la column `create_at` par `date_creation` : ALTER TABLE employee CHANGE create_at date_creation datetime\n",
    "   6. c'est quoi la differnce entre `delete` et `truncate` : `truncate` est plus rapide que `delete` mais vous ne pouvez pas utiliser `truncate` pour supprimer une table référencée quelque part, par contre vous pouvez le faire en utilisant `delete`.\n",
    "   7. imprimer la liste des employés qui ont un salaire plus que la somme de deux salaires minimum : SELECT * FROM employee WHERE salary > (SELECT SUM(salary) as 'Sum of 2 minimum Salary' FROM (SELECT salary FROM employee ORDER BY salary ASC LIMIT 2) as myalias)"
   ]
  },
  {
   "cell_type": "markdown",
   "metadata": {},
   "source": [
    "## Partie III\n",
    "### Pratique"
   ]
  },
  {
   "cell_type": "markdown",
   "metadata": {},
   "source": [
    "## vous trouverez un fichier qui contient le projet web sous le nom : iwacoTestWeb (Projet Angular)"
   ]
  }
 ],
 "metadata": {
  "kernelspec": {
   "display_name": "Python 3",
   "language": "python",
   "name": "python3"
  },
  "language_info": {
   "codemirror_mode": {
    "name": "ipython",
    "version": 3
   },
   "file_extension": ".py",
   "mimetype": "text/x-python",
   "name": "python",
   "nbconvert_exporter": "python",
   "pygments_lexer": "ipython3",
   "version": "3.7.3"
  }
 },
 "nbformat": 4,
 "nbformat_minor": 5
}
